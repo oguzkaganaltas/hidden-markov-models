{
 "cells": [
  {
   "cell_type": "code",
   "execution_count": 1,
   "metadata": {},
   "outputs": [],
   "source": [
    "import numpy as np\n",
    "import matplotlib.pyplot as plt"
   ]
  },
  {
   "cell_type": "code",
   "execution_count": 2,
   "metadata": {},
   "outputs": [],
   "source": [
    "A = np.asarray([[0.3, 0.7],\n",
    "                [0.8, 0.2]])\n",
    "\n",
    "B = np.asarray([[0.5, 0.3, 0.2],\n",
    "                [0.1, 0.1, 0.8]])\n",
    "\n",
    "pi = np.asarray([0.6, 0.4])\n",
    "\n",
    "O = np.asarray([1, 2, 1, 0])"
   ]
  },
  {
   "cell_type": "code",
   "execution_count": 9,
   "metadata": {},
   "outputs": [],
   "source": [
    "i = 0\n",
    "obsr = 0"
   ]
  },
  {
   "cell_type": "code",
   "execution_count": 44,
   "metadata": {},
   "outputs": [],
   "source": [
    "trellis_diagram = np.zeros((2,len(O)))"
   ]
  },
  {
   "cell_type": "code",
   "execution_count": 73,
   "metadata": {},
   "outputs": [
    {
     "data": {
      "text/plain": [
       "0.007406880000000001"
      ]
     },
     "execution_count": 73,
     "metadata": {},
     "output_type": "execute_result"
    }
   ],
   "source": [
    "for obsr in range(len(O)):\n",
    "    for i in range(2):\n",
    "        if obsr == 0:\n",
    "            trellis_diagram[i][obsr] = pi[i] * B[i][O[obsr]]\n",
    "        else:\n",
    "            trellis_diagram[i][obsr] = trellis_diagram[0][obsr-1] * A[0][i] * B[i][O[obsr]] + trellis_diagram[1][obsr-1] * A[1][i] * B[i][O[obsr]]\n",
    "np.sum(trellis_diagram[:,(len(O)-1)])"
   ]
  },
  {
   "cell_type": "code",
   "execution_count": 125,
   "metadata": {},
   "outputs": [],
   "source": [
    "trellis_diagram = np.zeros((2,len(O)))"
   ]
  },
  {
   "cell_type": "code",
   "execution_count": 136,
   "metadata": {},
   "outputs": [],
   "source": [
    "most_probable_state_sequence = []\n",
    "for obsr in range(len(O)):\n",
    "    if obsr == 0:\n",
    "        for i in range(2):\n",
    "            trellis_diagram[i][obsr] = pi[i] * B[i][O[obsr]]\n",
    "        path = np.argmax(trellis_diagram[:,obsr])\n",
    "        most_probable_state_sequence.append(path)\n",
    "    else:\n",
    "        path = np.argmax(trellis_diagram[:,obsr-1])\n",
    "        most_probable_state_sequence.append(np.argmax(trellis_diagram[:,obsr]))\n",
    "        trellis_diagram[path,obsr] = trellis_diagram[path][obsr-1] * A[path][path]*B[path][O[obsr]]\n",
    "        trellis_diagram[int(not path),obsr] = trellis_diagram[path][obsr-1] * A[path][int(not path)]*B[int(not path)][O[obsr]]"
   ]
  },
  {
   "cell_type": "code",
   "execution_count": 137,
   "metadata": {},
   "outputs": [
    {
     "data": {
      "text/plain": [
       "array([[0.18      , 0.0108    , 0.024192  , 0.0036288 ],\n",
       "       [0.04      , 0.1008    , 0.002016  , 0.00169344]])"
      ]
     },
     "execution_count": 137,
     "metadata": {},
     "output_type": "execute_result"
    }
   ],
   "source": [
    "trellis_diagram"
   ]
  },
  {
   "cell_type": "code",
   "execution_count": 138,
   "metadata": {},
   "outputs": [
    {
     "data": {
      "text/plain": [
       "[0, 1, 0, 0]"
      ]
     },
     "execution_count": 138,
     "metadata": {},
     "output_type": "execute_result"
    }
   ],
   "source": [
    "most_probable_state_sequence"
   ]
  },
  {
   "cell_type": "code",
   "execution_count": null,
   "metadata": {},
   "outputs": [],
   "source": []
  }
 ],
 "metadata": {
  "interpreter": {
   "hash": "73cb587e981b46ef4cd8747ecb5a483b6f1d7dde7741ee2cacb92c485f9a68cd"
  },
  "kernelspec": {
   "display_name": "Python 3.8.12 64-bit ('pytorch': conda)",
   "language": "python",
   "name": "python3"
  },
  "language_info": {
   "codemirror_mode": {
    "name": "ipython",
    "version": 3
   },
   "file_extension": ".py",
   "mimetype": "text/x-python",
   "name": "python",
   "nbconvert_exporter": "python",
   "pygments_lexer": "ipython3",
   "version": "3.8.12"
  },
  "orig_nbformat": 4
 },
 "nbformat": 4,
 "nbformat_minor": 2
}
