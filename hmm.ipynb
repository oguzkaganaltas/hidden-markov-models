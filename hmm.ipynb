{
 "cells": [
  {
   "cell_type": "code",
   "execution_count": 170,
   "metadata": {},
   "outputs": [],
   "source": [
    "import numpy as np\n",
    "import matplotlib.pyplot as plt"
   ]
  },
  {
   "cell_type": "code",
   "execution_count": 171,
   "metadata": {},
   "outputs": [],
   "source": [
    "A = np.asarray([[0.3, 0.2,0.5],\n",
    "                [0.8, 0.1,0.1],\n",
    "                [0.4, 0.4,0.2]])\n",
    "B = np.asarray([[0.5, 0.3,0.2],\n",
    "                [0.1,0.1,0.8],\n",
    "                [0.3,0.3,0.4]])\n",
    "\n",
    "pi = np.asarray([0.5, 0.3, 0.2])\n",
    "\n",
    "O = np.asarray([1, 2, 1, 0])"
   ]
  },
  {
   "cell_type": "code",
   "execution_count": 172,
   "metadata": {},
   "outputs": [],
   "source": [
    "i = 0\n",
    "obsr = 0"
   ]
  },
  {
   "cell_type": "code",
   "execution_count": 173,
   "metadata": {},
   "outputs": [
    {
     "data": {
      "text/plain": [
       "0.008313480000000002"
      ]
     },
     "execution_count": 173,
     "metadata": {},
     "output_type": "execute_result"
    }
   ],
   "source": [
    "trellis_diagram = np.zeros((len(pi),len(O)))\n",
    "for obsr in range(len(O)):\n",
    "    for i in range(len(pi)):\n",
    "        for j in range(len(pi)):\n",
    "            if obsr == 0:\n",
    "                trellis_diagram[j][obsr] = pi[j] * B[j][O[obsr]]\n",
    "            else:\n",
    "                trellis_diagram[j][obsr] += trellis_diagram[i][obsr-1] * A[i][j] * B[j][O[obsr]]\n",
    "\n",
    "np.sum(trellis_diagram[:,(len(O)-1)])"
   ]
  },
  {
   "cell_type": "code",
   "execution_count": 174,
   "metadata": {},
   "outputs": [
    {
     "data": {
      "text/plain": [
       "array([[0.15      , 0.0186    , 0.016938  , 0.0047115 ],\n",
       "       [0.03      , 0.0456    , 0.002268  , 0.00061416],\n",
       "       [0.06      , 0.036     , 0.006318  , 0.00298782]])"
      ]
     },
     "execution_count": 174,
     "metadata": {},
     "output_type": "execute_result"
    }
   ],
   "source": [
    "trellis_diagram"
   ]
  },
  {
   "cell_type": "code",
   "execution_count": 175,
   "metadata": {},
   "outputs": [],
   "source": [
    "trellis_diagram = np.zeros((len(pi),len(O)))\n",
    "most_probable_state_sequence = []\n",
    "for obsr in range(len(O)):\n",
    "    if obsr == 0:\n",
    "        for i in range(len(pi)):\n",
    "            trellis_diagram[i][obsr] = pi[i] * B[i][O[obsr]]\n",
    "        path = np.argmax(trellis_diagram[:,obsr])\n",
    "        most_probable_state_sequence.append(path)\n",
    "    else:\n",
    "        path = np.argmax(trellis_diagram[:,obsr-1])\n",
    "        for j in range(len(pi)):\n",
    "            trellis_diagram[j][obsr] = trellis_diagram[path][obsr-1] * A[path][j] * B[j][O[obsr]] \n",
    "        most_probable_state_sequence.append(np.argmax(trellis_diagram[:,obsr]))\n"
   ]
  },
  {
   "cell_type": "code",
   "execution_count": 176,
   "metadata": {},
   "outputs": [
    {
     "data": {
      "text/plain": [
       "array([[1.5e-01, 9.0e-03, 3.6e-03, 5.4e-04],\n",
       "       [3.0e-02, 2.4e-02, 1.2e-03, 7.2e-05],\n",
       "       [6.0e-02, 3.0e-02, 1.8e-03, 5.4e-04]])"
      ]
     },
     "execution_count": 176,
     "metadata": {},
     "output_type": "execute_result"
    }
   ],
   "source": [
    "trellis_diagram"
   ]
  },
  {
   "cell_type": "code",
   "execution_count": 177,
   "metadata": {},
   "outputs": [
    {
     "data": {
      "text/plain": [
       "[0, 2, 0, 0]"
      ]
     },
     "execution_count": 177,
     "metadata": {},
     "output_type": "execute_result"
    }
   ],
   "source": [
    "most_probable_state_sequence"
   ]
  },
  {
   "cell_type": "code",
   "execution_count": null,
   "metadata": {},
   "outputs": [],
   "source": []
  }
 ],
 "metadata": {
  "interpreter": {
   "hash": "73cb587e981b46ef4cd8747ecb5a483b6f1d7dde7741ee2cacb92c485f9a68cd"
  },
  "kernelspec": {
   "display_name": "Python 3.8.12 64-bit ('pytorch': conda)",
   "language": "python",
   "name": "python3"
  },
  "language_info": {
   "codemirror_mode": {
    "name": "ipython",
    "version": 3
   },
   "file_extension": ".py",
   "mimetype": "text/x-python",
   "name": "python",
   "nbconvert_exporter": "python",
   "pygments_lexer": "ipython3",
   "version": "3.8.12"
  },
  "orig_nbformat": 4
 },
 "nbformat": 4,
 "nbformat_minor": 2
}
